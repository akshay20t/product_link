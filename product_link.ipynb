{
 "cells": [
  {
   "cell_type": "code",
   "execution_count": 4,
   "metadata": {},
   "outputs": [],
   "source": [
    "import requests\n",
    "from bs4 import BeautifulSoup\n",
    "from fake_useragent import UserAgent\n"
   ]
  },
  {
   "cell_type": "code",
   "execution_count": 5,
   "metadata": {},
   "outputs": [],
   "source": [
    "url= \"https://www.consumerreports.org/cro/index.htm\"\n",
    "file_name= \"product_link.txt\"\n",
    "\n",
    "ua= UserAgent()\n",
    "\n",
    "page= requests.get(url, headers= {\"user-agent\": ua.chrome})\n",
    "\n",
    "with open(file_name, \"w\") as file:\n",
    "    file.write(page.content.decode(\"utf-8\")) if type(page.content)== bytes else file.write(page.content)\n",
    "    "
   ]
  },
  {
   "cell_type": "code",
   "execution_count": 11,
   "metadata": {},
   "outputs": [
    {
     "name": "stdout",
     "output_type": "stream",
     "text": [
      "{'Coffee Makers': '/cro/coffee-makers.htm', 'Dishwashers': '/cro/dishwashers.htm', 'Humidifiers': '/cro/humidifiers.htm', 'Mattresses': '/cro/mattresses.htm', 'Snow Blowers': '/cro/snow-blowers.htm', 'Space Heaters': '/cro/space-heaters.htm', 'SUVs': '/cro/cars/suvs.htm', 'Tires': '/cro/tires.htm', 'TVs': '/cro/tvs.htm', 'Vacuum Cleaners': '/cro/vacuum-cleaners.htm', 'Washing Machines': '/cro/washing-machines.htm', 'All Products A-Z': '/cro/a-to-z-index/products/index.htm'}\n"
     ]
    }
   ],
   "source": [
    "def read_file():\n",
    "    file= open(\"product_link.txt\", \"r\")\n",
    "    data= file.read()\n",
    "    file.close()\n",
    "    return data\n",
    "\n",
    "soup= BeautifulSoup(read_file(), \"html.parser\")\n",
    "product_name= [div.h4.string for div in soup.find_all(\"div\", class_=\"productItem__description\")]\n",
    "product_link= [div.a[\"href\"] for div in soup.find_all(\"div\", class_=\"productItemSmall-v2__item\")]\n",
    "\n",
    "\n",
    "product_info= {product_name[i]:product_link[i] for i in range(len(product_name))}\n",
    "    \n",
    "\n",
    "print(product_info)"
   ]
  },
  {
   "cell_type": "code",
   "execution_count": null,
   "metadata": {},
   "outputs": [],
   "source": []
  }
 ],
 "metadata": {
  "kernelspec": {
   "display_name": "Python 3",
   "language": "python",
   "name": "python3"
  },
  "language_info": {
   "codemirror_mode": {
    "name": "ipython",
    "version": 3
   },
   "file_extension": ".py",
   "mimetype": "text/x-python",
   "name": "python",
   "nbconvert_exporter": "python",
   "pygments_lexer": "ipython3",
   "version": "3.6.7"
  }
 },
 "nbformat": 4,
 "nbformat_minor": 2
}
