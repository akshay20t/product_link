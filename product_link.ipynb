{
 "cells": [
  {
   "cell_type": "code",
   "execution_count": 2,
   "metadata": {},
   "outputs": [],
   "source": [
    "import requests\n",
    "from bs4 import BeautifulSoup\n",
    "from fake_useragent import UserAgent\n"
   ]
  },
  {
   "cell_type": "code",
   "execution_count": 3,
   "metadata": {},
   "outputs": [],
   "source": [
    "url= \"https://www.consumerreports.org/cro/index.htm\"\n",
    "file_name= \"product_link.txt\"\n",
    "\n",
    "ua= UserAgent()\n",
    "\n",
    "page= requests.get(url, headers= {\"user-agent\": ua.chrome})\n",
    "\n",
    "with open(file_name, \"w\") as file:\n",
    "    file.write(page.content.decode(\"utf-8\")) if type(page.content)== bytes else file.write(page.content)\n",
    "    "
   ]
  },
  {
   "cell_type": "code",
   "execution_count": 5,
   "metadata": {},
   "outputs": [
    {
     "name": "stdout",
     "output_type": "stream",
     "text": [
      "{'Coffee Makers': 'https://www.consumerreports.org/cro/coffee-makers.htm', 'Dishwashers': 'https://www.consumerreports.org/cro/dishwashers.htm', 'Humidifiers': 'https://www.consumerreports.org/cro/humidifiers.htm', 'Mattresses': 'https://www.consumerreports.org/cro/mattresses.htm', 'Snow Blowers': 'https://www.consumerreports.org/cro/snow-blowers.htm', 'Space Heaters': 'https://www.consumerreports.org/cro/space-heaters.htm', 'SUVs': 'https://www.consumerreports.org/cro/cars/suvs.htm', 'Tires': 'https://www.consumerreports.org/cro/tires.htm', 'TVs': 'https://www.consumerreports.org/cro/tvs.htm', 'Vacuum Cleaners': 'https://www.consumerreports.org/cro/vacuum-cleaners.htm', 'Washing Machines': 'https://www.consumerreports.org/cro/washing-machines.htm', 'All Products A-Z': 'https://www.consumerreports.org/cro/a-to-z-index/products/index.htm'}\n"
     ]
    }
   ],
   "source": [
    "def read_file():\n",
    "    file= open(\"product_link.txt\", \"r\")\n",
    "    data= file.read()\n",
    "    file.close()\n",
    "    return data\n",
    "\n",
    "base_url= \"https://www.consumerreports.org\"\n",
    "soup= BeautifulSoup(read_file(), \"html.parser\")\n",
    "product_name= [div.h4.string for div in soup.find_all(\"div\", class_=\"productItem__description\")]\n",
    "product_link= [base_url+div.a[\"href\"] for div in soup.find_all(\"div\", class_=\"productItemSmall-v2__item\")]\n",
    "\n",
    "\n",
    "product_info= {product_name[i]:product_link[i] for i in range(len(product_name))}\n",
    "    \n",
    "\n",
    "print(product_info)"
   ]
  },
  {
   "cell_type": "code",
   "execution_count": null,
   "metadata": {},
   "outputs": [],
   "source": []
  }
 ],
 "metadata": {
  "kernelspec": {
   "display_name": "Python 3",
   "language": "python",
   "name": "python3"
  },
  "language_info": {
   "codemirror_mode": {
    "name": "ipython",
    "version": 3
   },
   "file_extension": ".py",
   "mimetype": "text/x-python",
   "name": "python",
   "nbconvert_exporter": "python",
   "pygments_lexer": "ipython3",
   "version": "3.7.2"
  }
 },
 "nbformat": 4,
 "nbformat_minor": 2
}
